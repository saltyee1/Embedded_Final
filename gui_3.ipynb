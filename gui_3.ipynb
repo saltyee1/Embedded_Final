{
 "cells": [
  {
   "cell_type": "code",
   "execution_count": 137,
   "metadata": {},
   "outputs": [],
   "source": [
    "import tkinter as tk\n",
    "from tkinter import simpledialog, Toplevel\n",
    "from tkinter import messagebox\n",
    "from tkinter import font as tkFont\n",
    "from PIL import Image, ImageTk\n",
    "import cv2\n",
    "import os\n",
    "from datetime import datetime\n",
    "import shutil\n",
    "import matplotlib.pyplot as plt\n",
    "from tkinter import Tk, Frame, BOTH\n",
    "from matplotlib.backends.backend_tkagg import FigureCanvasTkAgg\n",
    "import threading\n",
    "\n",
    "\n"
   ]
  },
  {
   "cell_type": "markdown",
   "metadata": {},
   "source": [
    "## 主視窗 \n",
    "### 基本設定\n"
   ]
  },
  {
   "cell_type": "code",
   "execution_count": 138,
   "metadata": {},
   "outputs": [
    {
     "data": {
      "text/plain": [
       "''"
      ]
     },
     "execution_count": 138,
     "metadata": {},
     "output_type": "execute_result"
    }
   ],
   "source": [
    "root = tk.Tk()\n",
    "root.title(\"健康紀錄\")\n",
    "root.geometry(\"400x300\")  # 窗口大小\n"
   ]
  },
  {
   "cell_type": "markdown",
   "metadata": {},
   "source": [
    "Global Variable"
   ]
  },
  {
   "cell_type": "code",
   "execution_count": 139,
   "metadata": {},
   "outputs": [],
   "source": [
    "name = \"\""
   ]
  },
  {
   "cell_type": "markdown",
   "metadata": {},
   "source": [
    "### 彈出視窗的按鈕的設定"
   ]
  },
  {
   "cell_type": "code",
   "execution_count": 140,
   "metadata": {},
   "outputs": [],
   "source": [
    "def custom_ask_string(title, prompt):\n",
    "    dialog = Toplevel(root)\n",
    "    dialog.title(title)\n",
    "    dialog.geometry(\"300x150\")  # 設置對話框大小\n",
    "\n",
    "    label = tk.Label(dialog, text=prompt)\n",
    "    label.pack(pady=10)\n",
    "\n",
    "    entry = tk.Entry(dialog, width=30)\n",
    "    entry.pack(pady=10)\n",
    "\n",
    "    def on_ok():\n",
    "        global result\n",
    "        result = entry.get()\n",
    "        dialog.destroy()\n",
    "\n",
    "    def on_cancel():\n",
    "        global result\n",
    "        result = None\n",
    "        dialog.destroy()\n",
    "\n",
    "    btn_frame = tk.Frame(dialog)\n",
    "    btn_frame.pack(pady=10)\n",
    "\n",
    "    btn_ok = tk.Button(btn_frame, text=\"確定\", command=on_ok)\n",
    "    btn_ok.pack(side=tk.LEFT, padx=5)\n",
    "\n",
    "    btn_cancel = tk.Button(btn_frame, text=\"取消\", command=on_cancel)\n",
    "    btn_cancel.pack(side=tk.LEFT, padx=5)\n",
    "\n",
    "    dialog.transient(root)\n",
    "    dialog.grab_set()\n",
    "    root.wait_window(dialog)\n",
    "\n",
    "    return result"
   ]
  },
  {
   "cell_type": "markdown",
   "metadata": {},
   "source": [
    "## 主視窗按鈕funciton\n",
    "### 新建文件"
   ]
  },
  {
   "cell_type": "code",
   "execution_count": 141,
   "metadata": {},
   "outputs": [],
   "source": [
    "def new_file():\n",
    "    global name\n",
    "    # 創建窗口\n",
    "    new_window = tk.Toplevel(root)\n",
    "    new_window.title(\"輸入名字\")\n",
    "    new_window.geometry(\"300x150\")\n",
    "    \n",
    "    # 標籤\n",
    "    label = tk.Label(new_window, text=\"請輸入名字:\")\n",
    "    label.pack(pady=10)\n",
    "    \n",
    "    name_entry = tk.Entry(new_window)\n",
    "    name_entry.pack(pady=5)\n",
    "    \n",
    "    # 按鈕確認\n",
    "    def confirm():\n",
    "        global name\n",
    "        name = name_entry.get()\n",
    "        new_window.destroy()\n",
    "    \n",
    "    confirm_button = tk.Button(new_window, text=\"確認\", command=confirm)\n",
    "    confirm_button.pack(pady=10)\n",
    "    pass\n"
   ]
  },
  {
   "cell_type": "code",
   "execution_count": 142,
   "metadata": {},
   "outputs": [],
   "source": [
    "import sys\n",
    "import serial\n",
    "import time\n",
    "from PyQt5 import QtWidgets, QtCore\n",
    "import pyqtgraph as pg\n",
    "import numpy as np\n",
    "\n",
    "class RealTimePlot(QtWidgets.QMainWindow):\n",
    "    def __init__(self, *args, **kwargs):\n",
    "        super(RealTimePlot, self).__init__(*args, **kwargs)\n",
    "        self.setWindowTitle('Real-time Data Plot')\n",
    "        self.setGeometry(100, 100, 1200, 600)\n",
    "\n",
    "        # Create three plot widgets\n",
    "        self.plot_widget1 = pg.PlotWidget(title=\"SPO2\")\n",
    "        self.plot_widget2 = pg.PlotWidget(title=\"BPM\")\n",
    "        self.plot_widget3 = pg.PlotWidget(title=\"ECG\")\n",
    "\n",
    "        # Create a layout to hold the plot widgets and the result label and button\n",
    "        self.layout = QtWidgets.QVBoxLayout()\n",
    "\n",
    "        # Add plot widgets to the layout\n",
    "        self.layout.addWidget(self.plot_widget1)\n",
    "        self.layout.addWidget(self.plot_widget2)\n",
    "\n",
    "        # Create a label to show the average results\n",
    "        self.result_label = QtWidgets.QLabel('結果：')\n",
    "        self.layout.addWidget(self.result_label)\n",
    "\n",
    "        # Add the plot widget3 to the layout\n",
    "        self.layout.addWidget(self.plot_widget3)\n",
    "\n",
    "        # Create a button and add it to the layout\n",
    "        self.result_button = QtWidgets.QPushButton('察看結果')\n",
    "        self.layout.addWidget(self.result_button)\n",
    "        self.result_button.clicked.connect(self.show_results)\n",
    "\n",
    "        # Create a central widget and set the layout\n",
    "        self.central_widget = QtWidgets.QWidget()\n",
    "        self.central_widget.setLayout(self.layout)\n",
    "        self.setCentralWidget(self.central_widget)\n",
    "\n",
    "        # Initialize data lists\n",
    "        self.data1 = []\n",
    "        self.data2 = []\n",
    "        self.data3 = []\n",
    "\n",
    "        # Initialize curves for each plot\n",
    "        self.curve1 = self.plot_widget1.plot(self.data1, pen='r')\n",
    "        self.curve2 = self.plot_widget2.plot(self.data2, pen='g')\n",
    "        self.curve3 = self.plot_widget3.plot(self.data3, pen='b')\n",
    "\n",
    "        # Initialize serial port\n",
    "        self.serial_port = serial.Serial('COM5', 9600, timeout=1)\n",
    "\n",
    "        # Setup timer to update the plots\n",
    "        self.timer = QtCore.QTimer()\n",
    "        self.timer.setInterval(50)  # Update interval in milliseconds\n",
    "        self.timer.timeout.connect(self.update_plot)\n",
    "        self.timer.start()\n",
    "         # Variable to store the last recorded data of plot_widget3\n",
    "        self.recorded_data3 = []\n",
    "\n",
    "    def update_plot(self):\n",
    "        if self.serial_port.inWaiting() > 0:\n",
    "            line = self.serial_port.readline().decode('utf-8').strip()\n",
    "            try:\n",
    "                values = line.split('\\t')\n",
    "                if len(values) >= 3:\n",
    "                    value1 = float(values[0].strip())\n",
    "                    value2 = float(values[1].strip())\n",
    "                    value3 = float(values[2].strip())\n",
    "                    if value1 != 0:\n",
    "                        self.data1.append(value1)\n",
    "                    if value2 != 0:\n",
    "                        self.data2.append(value2)\n",
    "                    if value3 != 0:\n",
    "                        self.data3.append(value3)\n",
    "\n",
    "                    if len(self.data1) > 100:\n",
    "                        self.data1.pop(0)\n",
    "                    if len(self.data2) > 100:\n",
    "                        self.data2.pop(0)\n",
    "                    if len(self.data3) > 100:\n",
    "                        self.data3.pop(0)\n",
    "\n",
    "                    self.curve1.setData(self.data1)\n",
    "                    self.curve2.setData(self.data2)\n",
    "                    self.curve3.setData(self.data3)\n",
    "            except ValueError:\n",
    "                pass  # Ignore lines that don't contain valid float values\n",
    "\n",
    "    def show_results(self):\n",
    "        global name\n",
    "        if self.data1 and self.data2:\n",
    "            avg1 = np.mean(self.data1)\n",
    "            avg2 = np.mean(self.data2)\n",
    "            #self.result_label.setText(f'結果: SPO2 平均值 = {avg1:.2f}, BPM 平均值 = {avg2:.2f}')\n",
    "            # color & text\n",
    "            spo2_text = '血氧過低' if avg1 < 95 else '血氧正常'\n",
    "            spo2_color = 'red' if avg1 < 95 else 'green'\n",
    "\n",
    "            bpm_text = '心率偏快' if avg2 > 100 else ('心率偏低' if avg2 < 60 else '心率正常')\n",
    "            bpm_color = 'red' if (avg2 > 100 or avg2 < 60) else 'green'\n",
    "\n",
    "            # QLabel\n",
    "            self.result_label.setText(\n",
    "                f'<html><body>'\n",
    "                f'<p style=\"font-size:20px;\">姓名: {name}</p>'\n",
    "                f'<p style=\"font-size:20px;\">結果:</p>'\n",
    "                f'<p style=\"font-size:20px;\">SPO2 平均值 = <span style=\"color:{spo2_color};\">{avg1:.2f}</span> - {spo2_text}</p>'\n",
    "                f'<p style=\"font-size:20px;\">BPM 平均值 = <span style=\"color:{bpm_color};\">{avg2:.2f}</span> - {bpm_text}</p>'\n",
    "                f'</body></html>'\n",
    "            )\n",
    "\n",
    "            # Record current data of plot_widget3\n",
    "            self.recorded_data3 = self.data3.copy()\n",
    "\n",
    "            # Clear data3 for plotting the new data\n",
    "            self.data3.clear()\n",
    "            self.curve3.setData(self.data3)\n",
    "\n",
    "        # Stop the timer\n",
    "        self.timer.stop()\n",
    "\n",
    "        # Hide the plot widgets and result button\n",
    "        self.plot_widget1.hide()\n",
    "        self.plot_widget2.hide()\n",
    "        self.plot_widget3.hide()\n",
    "        self.result_button.hide()\n",
    "\n",
    "        # Show recorded data3 in plot_widget3\n",
    "        self.plot_widget3.show()\n",
    "        self.curve3.setData(self.recorded_data3)\n",
    "\n",
    "        # Resize window to fit only the result label and plot_widget3\n",
    "        self.resize(1200, 400)\n"
   ]
  },
  {
   "cell_type": "markdown",
   "metadata": {},
   "source": [
    "### 開始測量\n",
    "需撰寫 儲存資料 這個步驟"
   ]
  },
  {
   "cell_type": "code",
   "execution_count": 143,
   "metadata": {},
   "outputs": [],
   "source": [
    "def measure_data():\n",
    "    def run_qt():\n",
    "        app = QtWidgets.QApplication(sys.argv)\n",
    "        main = RealTimePlot()\n",
    "        main.show()\n",
    "        sys.exit(app.exec_())\n",
    "\n",
    "    threading.Thread(target=run_qt).start()"
   ]
  },
  {
   "cell_type": "markdown",
   "metadata": {},
   "source": [
    "### 查詢資料\n",
    "需要再加入 讀取資料夾(日期) 裡面的 \n",
    "1. 血氧\n",
    "2. 溫度\n",
    "3. 脈搏\n",
    "並將資料作折線圖\n"
   ]
  },
  {
   "cell_type": "code",
   "execution_count": 144,
   "metadata": {},
   "outputs": [],
   "source": [
    "\n",
    "def view_file():\n",
    "    pass"
   ]
  },
  {
   "cell_type": "markdown",
   "metadata": {},
   "source": [
    "### 退出"
   ]
  },
  {
   "cell_type": "code",
   "execution_count": 145,
   "metadata": {},
   "outputs": [],
   "source": [
    "def exit_app():\n",
    "    root.destroy()"
   ]
  },
  {
   "cell_type": "markdown",
   "metadata": {},
   "source": [
    "### 主視窗 圖片"
   ]
  },
  {
   "cell_type": "code",
   "execution_count": 146,
   "metadata": {},
   "outputs": [],
   "source": [
    "def load_image(path, max_size):\n",
    "    img = Image.open(path)\n",
    "    img.thumbnail(max_size, Image.LANCZOS)  # 使用 Image.LANCZOS 替代 Image.ANTIALIAS\n",
    "    return ImageTk.PhotoImage(img)\n"
   ]
  },
  {
   "cell_type": "code",
   "execution_count": 147,
   "metadata": {},
   "outputs": [
    {
     "ename": "TclError",
     "evalue": "image \"pyimage12\" doesn't exist",
     "output_type": "error",
     "traceback": [
      "\u001b[1;31m---------------------------------------------------------------------------\u001b[0m",
      "\u001b[1;31mTclError\u001b[0m                                  Traceback (most recent call last)",
      "Cell \u001b[1;32mIn[147], line 6\u001b[0m\n\u001b[0;32m      3\u001b[0m image \u001b[38;5;241m=\u001b[39m load_image(image_path, max_size)\n\u001b[0;32m      5\u001b[0m \u001b[38;5;66;03m# 创建一个Label小部件来显示图片，并保存图像引用\u001b[39;00m\n\u001b[1;32m----> 6\u001b[0m image_label \u001b[38;5;241m=\u001b[39m \u001b[43mtk\u001b[49m\u001b[38;5;241;43m.\u001b[39;49m\u001b[43mLabel\u001b[49m\u001b[43m(\u001b[49m\u001b[43mroot\u001b[49m\u001b[43m,\u001b[49m\u001b[43m \u001b[49m\u001b[43mimage\u001b[49m\u001b[38;5;241;43m=\u001b[39;49m\u001b[43mimage\u001b[49m\u001b[43m)\u001b[49m\n\u001b[0;32m      7\u001b[0m image_label\u001b[38;5;241m.\u001b[39mimage \u001b[38;5;241m=\u001b[39m image  \u001b[38;5;66;03m# 這行代碼保存了圖像的引用\u001b[39;00m\n\u001b[0;32m      8\u001b[0m image_label\u001b[38;5;241m.\u001b[39mplace(x\u001b[38;5;241m=\u001b[39m\u001b[38;5;241m50\u001b[39m, y\u001b[38;5;241m=\u001b[39m\u001b[38;5;241m50\u001b[39m)\n",
      "File \u001b[1;32mc:\\Users\\lol\\anaconda3\\envs\\myenv\\lib\\tkinter\\__init__.py:3148\u001b[0m, in \u001b[0;36mLabel.__init__\u001b[1;34m(self, master, cnf, **kw)\u001b[0m\n\u001b[0;32m   3130\u001b[0m \u001b[38;5;28;01mdef\u001b[39;00m \u001b[38;5;21m__init__\u001b[39m(\u001b[38;5;28mself\u001b[39m, master\u001b[38;5;241m=\u001b[39m\u001b[38;5;28;01mNone\u001b[39;00m, cnf\u001b[38;5;241m=\u001b[39m{}, \u001b[38;5;241m*\u001b[39m\u001b[38;5;241m*\u001b[39mkw):\n\u001b[0;32m   3131\u001b[0m \u001b[38;5;250m    \u001b[39m\u001b[38;5;124;03m\"\"\"Construct a label widget with the parent MASTER.\u001b[39;00m\n\u001b[0;32m   3132\u001b[0m \n\u001b[0;32m   3133\u001b[0m \u001b[38;5;124;03m    STANDARD OPTIONS\u001b[39;00m\n\u001b[1;32m   (...)\u001b[0m\n\u001b[0;32m   3146\u001b[0m \n\u001b[0;32m   3147\u001b[0m \u001b[38;5;124;03m    \"\"\"\u001b[39;00m\n\u001b[1;32m-> 3148\u001b[0m     \u001b[43mWidget\u001b[49m\u001b[38;5;241;43m.\u001b[39;49m\u001b[38;5;21;43m__init__\u001b[39;49m\u001b[43m(\u001b[49m\u001b[38;5;28;43mself\u001b[39;49m\u001b[43m,\u001b[49m\u001b[43m \u001b[49m\u001b[43mmaster\u001b[49m\u001b[43m,\u001b[49m\u001b[43m \u001b[49m\u001b[38;5;124;43m'\u001b[39;49m\u001b[38;5;124;43mlabel\u001b[39;49m\u001b[38;5;124;43m'\u001b[39;49m\u001b[43m,\u001b[49m\u001b[43m \u001b[49m\u001b[43mcnf\u001b[49m\u001b[43m,\u001b[49m\u001b[43m \u001b[49m\u001b[43mkw\u001b[49m\u001b[43m)\u001b[49m\n",
      "File \u001b[1;32mc:\\Users\\lol\\anaconda3\\envs\\myenv\\lib\\tkinter\\__init__.py:2572\u001b[0m, in \u001b[0;36mBaseWidget.__init__\u001b[1;34m(self, master, widgetName, cnf, kw, extra)\u001b[0m\n\u001b[0;32m   2570\u001b[0m \u001b[38;5;28;01mfor\u001b[39;00m k, v \u001b[38;5;129;01min\u001b[39;00m classes:\n\u001b[0;32m   2571\u001b[0m     \u001b[38;5;28;01mdel\u001b[39;00m cnf[k]\n\u001b[1;32m-> 2572\u001b[0m \u001b[38;5;28;43mself\u001b[39;49m\u001b[38;5;241;43m.\u001b[39;49m\u001b[43mtk\u001b[49m\u001b[38;5;241;43m.\u001b[39;49m\u001b[43mcall\u001b[49m\u001b[43m(\u001b[49m\n\u001b[0;32m   2573\u001b[0m \u001b[43m    \u001b[49m\u001b[43m(\u001b[49m\u001b[43mwidgetName\u001b[49m\u001b[43m,\u001b[49m\u001b[43m \u001b[49m\u001b[38;5;28;43mself\u001b[39;49m\u001b[38;5;241;43m.\u001b[39;49m\u001b[43m_w\u001b[49m\u001b[43m)\u001b[49m\u001b[43m \u001b[49m\u001b[38;5;241;43m+\u001b[39;49m\u001b[43m \u001b[49m\u001b[43mextra\u001b[49m\u001b[43m \u001b[49m\u001b[38;5;241;43m+\u001b[39;49m\u001b[43m \u001b[49m\u001b[38;5;28;43mself\u001b[39;49m\u001b[38;5;241;43m.\u001b[39;49m\u001b[43m_options\u001b[49m\u001b[43m(\u001b[49m\u001b[43mcnf\u001b[49m\u001b[43m)\u001b[49m\u001b[43m)\u001b[49m\n\u001b[0;32m   2574\u001b[0m \u001b[38;5;28;01mfor\u001b[39;00m k, v \u001b[38;5;129;01min\u001b[39;00m classes:\n\u001b[0;32m   2575\u001b[0m     k\u001b[38;5;241m.\u001b[39mconfigure(\u001b[38;5;28mself\u001b[39m, v)\n",
      "\u001b[1;31mTclError\u001b[0m: image \"pyimage12\" doesn't exist"
     ]
    }
   ],
   "source": [
    "image_path = \"./health_no1.png\"  # 确保路径正确\n",
    "max_size = (200, 200)  # 设置缩放后的最大尺寸\n",
    "image = load_image(image_path, max_size)\n",
    "\n",
    "# 创建一个Label小部件来显示图片，并保存图像引用\n",
    "image_label = tk.Label(root, image=image)\n",
    "image_label.image = image  # 這行代碼保存了圖像的引用\n",
    "image_label.place(x=50, y=50)  # 调整位置使图片在窗口中居中显示"
   ]
  },
  {
   "cell_type": "markdown",
   "metadata": {},
   "source": [
    "### 主視窗 按鈕本體 字體與位置"
   ]
  },
  {
   "cell_type": "code",
   "execution_count": null,
   "metadata": {},
   "outputs": [],
   "source": [
    "# 設置字體 與 大小\n",
    "button_font = tkFont.Font(family=\"TkDefaultFont\", size=12)\n",
    "\n",
    "btn_new = tk.Button(root, text=\"輸入名字\", command=new_file, font=button_font)\n",
    "btn_new.place(x=280, y=80)\n",
    "\n",
    "btn_new = tk.Button(root, text=\"開始測量\", command=measure_data, font=button_font)\n",
    "btn_new.place(x=280, y=120)\n",
    "\n",
    "btn_exit = tk.Button(root, text=\"退出\", command=exit_app, font=button_font)\n",
    "btn_exit.place(x=280, y=200)\n"
   ]
  },
  {
   "cell_type": "markdown",
   "metadata": {},
   "source": [
    "### mainloop\n"
   ]
  },
  {
   "cell_type": "code",
   "execution_count": null,
   "metadata": {},
   "outputs": [],
   "source": [
    "root.mainloop()\n"
   ]
  }
 ],
 "metadata": {
  "kernelspec": {
   "display_name": "embsys",
   "language": "python",
   "name": "python3"
  },
  "language_info": {
   "codemirror_mode": {
    "name": "ipython",
    "version": 3
   },
   "file_extension": ".py",
   "mimetype": "text/x-python",
   "name": "python",
   "nbconvert_exporter": "python",
   "pygments_lexer": "ipython3",
   "version": "3.8.19"
  }
 },
 "nbformat": 4,
 "nbformat_minor": 2
}
